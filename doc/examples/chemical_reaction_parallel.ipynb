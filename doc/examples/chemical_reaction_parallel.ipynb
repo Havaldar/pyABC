{
 "cells": [
  {
   "cell_type": "markdown",
   "metadata": {},
   "source": [
    "Markov Jump Process: Reaction Network\n",
    "======================================"
   ]
  },
  {
   "cell_type": "markdown",
   "metadata": {
    "raw_mimetype": "text/restructuredtext"
   },
   "source": [
    "In the following, we fit stochastic chemical reaction kinetics with pyABC and show how to perform model selection between two competing models."
   ]
  },
  {
   "cell_type": "raw",
   "metadata": {
    "raw_mimetype": "text/restructuredtext"
   },
   "source": [
    "\n",
    "This notebook can be downloaded here: :download:`Markov Jump Process: Reaction Network <chemical_reaction.ipynb>`."
   ]
  },
  {
   "cell_type": "markdown",
   "metadata": {},
   "source": [
    "We consider the two Markov jump process models $m_1$ and $m_2$ for conversion of (chemical) species $X$ to species $Y$:\n",
    "\n",
    "$$\n",
    "  m_1: X + Y \\xrightarrow{k_1} 2Y\\\\ m_2: X \\xrightarrow{k_2} Y.\n",
    "$$"
   ]
  },
  {
   "cell_type": "markdown",
   "metadata": {},
   "source": [
    "Each model is equipped with a single rate parameter $k$.\n",
    "To simulate these models, we define a simple Gillespie simulator:"
   ]
  },
  {
   "cell_type": "code",
   "execution_count": 1,
   "metadata": {},
   "outputs": [],
   "source": [
    "import numpy as np\n",
    "\n",
    "def h(x, pre, c):\n",
    "    return (x**pre).prod(1) * c\n",
    "\n",
    "def gillespie(x, c, pre, post, max_t):\n",
    "    \"\"\"\n",
    "    Gillespie simulation\n",
    "    \n",
    "    Parameters\n",
    "    ----------\n",
    "    \n",
    "    x: 1D array of size n_species\n",
    "        The initial numbers.\n",
    "    \n",
    "    c: 1D array of size n_reactions\n",
    "        The reaction rates.\n",
    "    \n",
    "    pre: array of size n_reactions x n_species\n",
    "        What is to be consumed.\n",
    "    \n",
    "    post: array of size n_reactions x n_species\n",
    "        What is to be produced\n",
    "    \n",
    "    max_t: int\n",
    "        Timulate up to time max_t\n",
    "        \n",
    "    Returns\n",
    "    -------\n",
    "    t, X: 1d array, 2d array\n",
    "        t: The time points.\n",
    "        X: The history of the species.\n",
    "           ``X.shape == (t.size, x.size)``\n",
    "    \n",
    "    \"\"\"\n",
    "    t = 0\n",
    "    t_store = [t]\n",
    "    x_store = [x.copy()]\n",
    "    S = post - pre\n",
    "\n",
    "    while t < max_t:\n",
    "        h_vec = h(x, pre, c)\n",
    "        h0 = h_vec.sum()\n",
    "        if h0 == 0:\n",
    "            break\n",
    "        delta_t = np.random.exponential(1 / h0)\n",
    "        # no reaction can occur any more\n",
    "        if not np.isfinite(delta_t):\n",
    "            t_store.append(max_t)\n",
    "            x_store.append(x)\n",
    "            break\n",
    "        reaction = np.random.choice(c.size, p=h_vec/h0)\n",
    "        t = t + delta_t\n",
    "        x = x + S[reaction]\n",
    "        \n",
    "        t_store.append(t)\n",
    "        x_store.append(x)\n",
    "\n",
    "    return np.array(t_store), np.array(x_store)"
   ]
  },
  {
   "cell_type": "markdown",
   "metadata": {},
   "source": [
    "Next, we define the models in terms of ther initial molecule numbers $x_0$, an array ``pre`` which determines what is to be consumed (the left hand side of the reaction equations) and an array ``post`` which determines what is to be produced (the right hand side of the reaction equations).\n",
    "Moreover, we define that the simulation time should not exceed ``MAX_T`` seconds.\n",
    "\n",
    "Model 1 starts with initial concentrations $X=40$ and $Y=3$.\n",
    "The reaction $X + Y \\rightarrow 2Y$ is encoded in ``pre = [[1, 1]]`` and ``post = [[0, 2]]``."
   ]
  },
  {
   "cell_type": "code",
   "execution_count": 2,
   "metadata": {},
   "outputs": [],
   "source": [
    "MAX_T = 0.1\n",
    "\n",
    "class Model1:\n",
    "    __name__ = \"Model 1\"\n",
    "    x0 = np.array([40, 3])   # Initial molecule numbers\n",
    "    pre = np.array([[1, 1]], dtype=int)\n",
    "    post = np.array([[0, 2]])\n",
    "    \n",
    "    \n",
    "    def __call__(self, par):\n",
    "        t, X = gillespie(self.x0,\n",
    "                         np.array([float(par[\"rate\"])]),\n",
    "                         self.pre, self.post,\n",
    "                         MAX_T)\n",
    "        return {\"t\": t, \"X\" : X}"
   ]
  },
  {
   "cell_type": "markdown",
   "metadata": {},
   "source": [
    "Model 2 inherits the initial concentration from model 1.\n",
    "The reaction $X \\rightarrow Y$ is incoded in ``pre = [[1, 0]]`` and ``post = [[0, 1]]``."
   ]
  },
  {
   "cell_type": "code",
   "execution_count": 3,
   "metadata": {},
   "outputs": [],
   "source": [
    "class Model2(Model1):\n",
    "    __name__ = \"Model 2\"\n",
    "    pre = np.array([[1, 0]], dtype=int)\n",
    "    post = np.array([[0, 1]])"
   ]
  },
  {
   "cell_type": "markdown",
   "metadata": {},
   "source": [
    "We draw one stochastic simulation from model 1 (the \"Observation\") and and one from model 2 (the \"Competition\") and visualize both"
   ]
  },
  {
   "cell_type": "code",
   "execution_count": 4,
   "metadata": {},
   "outputs": [
    {
     "data": {
      "image/png": "[encoded data removed]",
      "text/plain": [
       "<Figure size 864x288 with 2 Axes>"
      ]
     },
     "metadata": {
      "needs_background": "light"
     },
     "output_type": "display_data"
    }
   ],
   "source": [
    "%matplotlib inline\n",
    "import matplotlib.pyplot as plt\n",
    "\n",
    "true_rate = 2.3\n",
    "observations = [Model1()({\"rate\": true_rate}),\n",
    "                Model2()({\"rate\": 30})]\n",
    "fig, axes = plt.subplots(ncols=2)\n",
    "fig.set_size_inches((12, 4))\n",
    "for ax, title, obs in zip(axes, [\"Observation\", \"Competition\"],\n",
    "                          observations):\n",
    "    ax.step(obs[\"t\"], obs[\"X\"]);\n",
    "    ax.legend([\"Species X\", \"Species Y\"]);\n",
    "    ax.set_xlabel(\"Time\");\n",
    "    ax.set_ylabel(\"Concentration\");\n",
    "    ax.set_title(title);"
   ]
  },
  {
   "cell_type": "markdown",
   "metadata": {},
   "source": [
    "We observe that species $X$ is converted into species $Y$ in both cases.\n",
    "The difference of the concentrations over time can be quite subtle.\n",
    "\n",
    "We define a distance function as $L_1$ norm of two trajectories, evaluated at 20 time points:\n",
    "\n",
    "$$\n",
    "  \\mathrm{distance}(X_1, X_2) =\n",
    "     \\frac{1}{N}\\sum_{n=1}^{N} \n",
    "           \\left  |X_1(t_n) -X_2(t_n) \n",
    "           \\right|, \\quad t_n = \\frac{n}{N}T, \\quad  N=20 \\,.\n",
    "$$"
   ]
  },
  {
   "cell_type": "markdown",
   "metadata": {},
   "source": [
    "Note that we only consider the concentration of species $Y$ for distance calculation. And in code:"
   ]
  },
  {
   "cell_type": "code",
   "execution_count": 5,
   "metadata": {},
   "outputs": [],
   "source": [
    "N_TEST_TIMES = 20\n",
    "\n",
    "t_test_times = np.linspace(0, MAX_T, N_TEST_TIMES)\n",
    "def distance(x, y):\n",
    "    xt_ind = np.searchsorted(x[\"t\"], t_test_times) - 1\n",
    "    yt_ind = np.searchsorted(y[\"t\"], t_test_times) - 1\n",
    "    error = (np.absolute(x[\"X\"][:,1][xt_ind]\n",
    "                        - y[\"X\"][:,1][yt_ind]).sum()\n",
    "             / t_test_times.size)\n",
    "    return error"
   ]
  },
  {
   "cell_type": "markdown",
   "metadata": {},
   "source": [
    "For ABC, we choose for both models a uniform prior over the interval $[0, 100]$ for their single rate parameters:"
   ]
  },
  {
   "cell_type": "code",
   "execution_count": 6,
   "metadata": {},
   "outputs": [],
   "source": [
    "import pyabc as pyabc\n",
    "\n",
    "\n",
    "prior = pyabc.Distribution(rate=pyabc.RV(\"uniform\", 0, 100))"
   ]
  },
  {
   "cell_type": "markdown",
   "metadata": {},
   "source": [
    "We initialize the ABCSMC class passing the two models, their priors and the distance function."
   ]
  },
  {
   "cell_type": "code",
   "execution_count": 7,
   "metadata": {},
   "outputs": [],
   "source": [
    "redis_sampler = pyabc.sampler.RedisEvalParallelSampler(host=\"localhost\", port=6379)\n",
    "\n",
    "abc = pyabc.ABCSMC([Model1(),\n",
    "              Model2()],\n",
    "             [prior, prior],\n",
    "             distance,\n",
    "             population_size=pyabc.populationstrategy.AdaptivePopulationSize(500, 0.15),\n",
    "             sampler=redis_sampler)"
   ]
  },
  {
   "cell_type": "markdown",
   "metadata": {},
   "source": [
    "We initialize a new ABC run, taking as observed data the one generated by model 1.\n",
    "The ABC run is to be stored in the sqlite database located at ``/tmp/mjp.db``."
   ]
  },
  {
   "cell_type": "code",
   "execution_count": 8,
   "metadata": {
    "scrolled": false
   },
   "outputs": [
    {
     "name": "stderr",
     "output_type": "stream",
     "text": [
      "INFO:History:Start <ABCSMC(id=4, start_time=2020-06-23 10:28:14.497319, end_time=None)>\n"
     ]
    }
   ],
   "source": [
    "abc_id = abc.new(\"sqlite:////tmp/mjp.db\", observations[0])"
   ]
  },
  {
   "cell_type": "markdown",
   "metadata": {},
   "source": [
    "We start pyABC which automatically parallelizes across all available cores."
   ]
  },
  {
   "cell_type": "code",
   "execution_count": 9,
   "metadata": {
    "scrolled": false
   },
   "outputs": [
    {
     "name": "stderr",
     "output_type": "stream",
     "text": [
      "INFO:ABC:Calibration sample before t=0.\n",
      "INFO:Epsilon:initial epsilon is 8.024999999999991\n",
      "INFO:ABC:t: 0, eps: 8.024999999999991.\n",
      "INFO:ABC:Acceptance rate: 500 / 1086 = 4.6041e-01, ESS=5.0000e+02.\n",
      "INFO:Adaptation:Change nr particles 500 -> 82\n",
      "INFO:ABC:t: 1, eps: 4.55.\n",
      "INFO:ABC:Acceptance rate: 82 / 206 = 3.9806e-01, ESS=8.0421e+01.\n"
     ]
    },
    {
     "ename": "NotEnoughParticles",
     "evalue": "Fitting not possible.",
     "output_type": "error",
     "traceback": [
      "\u001b[0;31m---------------------------------------------------------------------------\u001b[0m",
      "\u001b[0;31mNotEnoughParticles\u001b[0m                        Traceback (most recent call last)",
      "\u001b[0;32m<ipython-input-9-f06a75a183eb>\u001b[0m in \u001b[0;36m<module>\u001b[0;34m\u001b[0m\n\u001b[0;32m----> 1\u001b[0;31m \u001b[0mhistory\u001b[0m \u001b[0;34m=\u001b[0m \u001b[0mabc\u001b[0m\u001b[0;34m.\u001b[0m\u001b[0mrun\u001b[0m\u001b[0;34m(\u001b[0m\u001b[0mminimum_epsilon\u001b[0m\u001b[0;34m=\u001b[0m\u001b[0;36m0.7\u001b[0m\u001b[0;34m,\u001b[0m \u001b[0mmax_nr_populations\u001b[0m\u001b[0;34m=\u001b[0m\u001b[0;36m15\u001b[0m\u001b[0;34m)\u001b[0m\u001b[0;34m\u001b[0m\u001b[0;34m\u001b[0m\u001b[0m\n\u001b[0m",
      "\u001b[0;32m~/anaconda3/lib/python3.7/site-packages/pyabc/smc.py\u001b[0m in \u001b[0;36mrun\u001b[0;34m(self, minimum_epsilon, max_nr_populations, min_acceptance_rate)\u001b[0m\n\u001b[1;32m    918\u001b[0m             \u001b[0;31m# prepare next iteration\u001b[0m\u001b[0;34m\u001b[0m\u001b[0;34m\u001b[0m\u001b[0;34m\u001b[0m\u001b[0m\n\u001b[1;32m    919\u001b[0m             self._prepare_next_iteration(\n\u001b[0;32m--> 920\u001b[0;31m                 t+1, sample, population, acceptance_rate)\n\u001b[0m\u001b[1;32m    921\u001b[0m \u001b[0;34m\u001b[0m\u001b[0m\n\u001b[1;32m    922\u001b[0m             \u001b[0;31m# check termination conditions\u001b[0m\u001b[0;34m\u001b[0m\u001b[0;34m\u001b[0m\u001b[0;34m\u001b[0m\u001b[0m\n",
      "\u001b[0;32m~/anaconda3/lib/python3.7/site-packages/pyabc/smc.py\u001b[0m in \u001b[0;36m_prepare_next_iteration\u001b[0;34m(self, t, sample, population, acceptance_rate)\u001b[0m\n\u001b[1;32m    966\u001b[0m \u001b[0;34m\u001b[0m\u001b[0m\n\u001b[1;32m    967\u001b[0m         \u001b[0;31m# update population size\u001b[0m\u001b[0;34m\u001b[0m\u001b[0;34m\u001b[0m\u001b[0;34m\u001b[0m\u001b[0m\n\u001b[0;32m--> 968\u001b[0;31m         \u001b[0mself\u001b[0m\u001b[0;34m.\u001b[0m\u001b[0m_adapt_population_size\u001b[0m\u001b[0;34m(\u001b[0m\u001b[0mt\u001b[0m\u001b[0;34m)\u001b[0m\u001b[0;34m\u001b[0m\u001b[0;34m\u001b[0m\u001b[0m\n\u001b[0m\u001b[1;32m    969\u001b[0m \u001b[0;34m\u001b[0m\u001b[0m\n\u001b[1;32m    970\u001b[0m         \u001b[0;32mdef\u001b[0m \u001b[0mget_recorded_sum_stats\u001b[0m\u001b[0;34m(\u001b[0m\u001b[0;34m)\u001b[0m\u001b[0;34m:\u001b[0m\u001b[0;34m\u001b[0m\u001b[0;34m\u001b[0m\u001b[0m\n",
      "\u001b[0;32m~/anaconda3/lib/python3.7/site-packages/pyabc/smc.py\u001b[0m in \u001b[0;36m_adapt_population_size\u001b[0;34m(self, t)\u001b[0m\n\u001b[1;32m   1044\u001b[0m         \u001b[0;31m# distributions\u001b[0m\u001b[0;34m\u001b[0m\u001b[0;34m\u001b[0m\u001b[0;34m\u001b[0m\u001b[0m\n\u001b[1;32m   1045\u001b[0m         \u001b[0mcopied_transitions\u001b[0m \u001b[0;34m=\u001b[0m \u001b[0mcopy\u001b[0m\u001b[0;34m.\u001b[0m\u001b[0mdeepcopy\u001b[0m\u001b[0;34m(\u001b[0m\u001b[0mself\u001b[0m\u001b[0;34m.\u001b[0m\u001b[0mtransitions\u001b[0m\u001b[0;34m)\u001b[0m\u001b[0;34m\u001b[0m\u001b[0;34m\u001b[0m\u001b[0m\n\u001b[0;32m-> 1046\u001b[0;31m         \u001b[0mself\u001b[0m\u001b[0;34m.\u001b[0m\u001b[0mpopulation_size\u001b[0m\u001b[0;34m.\u001b[0m\u001b[0mupdate\u001b[0m\u001b[0;34m(\u001b[0m\u001b[0mcopied_transitions\u001b[0m\u001b[0;34m,\u001b[0m \u001b[0mw\u001b[0m\u001b[0;34m,\u001b[0m \u001b[0mt\u001b[0m\u001b[0;34m)\u001b[0m\u001b[0;34m\u001b[0m\u001b[0;34m\u001b[0m\u001b[0m\n\u001b[0m\u001b[1;32m   1047\u001b[0m \u001b[0;34m\u001b[0m\u001b[0m\n\u001b[1;32m   1048\u001b[0m     \u001b[0;32mdef\u001b[0m \u001b[0m_fit_transitions\u001b[0m\u001b[0;34m(\u001b[0m\u001b[0mself\u001b[0m\u001b[0;34m,\u001b[0m \u001b[0mt\u001b[0m\u001b[0;34m)\u001b[0m\u001b[0;34m:\u001b[0m\u001b[0;34m\u001b[0m\u001b[0;34m\u001b[0m\u001b[0m\n",
      "\u001b[0;32m~/anaconda3/lib/python3.7/site-packages/pyabc/populationstrategy.py\u001b[0m in \u001b[0;36mupdate\u001b[0;34m(self, transitions, model_weights, t)\u001b[0m\n\u001b[1;32m    210\u001b[0m         cv_estimate = predict_population_size(\n\u001b[1;32m    211\u001b[0m             \u001b[0mreference_nr_part\u001b[0m\u001b[0;34m,\u001b[0m \u001b[0mtarget_cv\u001b[0m\u001b[0;34m,\u001b[0m\u001b[0;34m\u001b[0m\u001b[0;34m\u001b[0m\u001b[0m\n\u001b[0;32m--> 212\u001b[0;31m             lambda nr_particles: calc_cv(nr_particles, model_weights,\n\u001b[0m\u001b[1;32m    213\u001b[0m                                          \u001b[0mself\u001b[0m\u001b[0;34m.\u001b[0m\u001b[0mn_bootstrap\u001b[0m\u001b[0;34m,\u001b[0m \u001b[0mtest_w\u001b[0m\u001b[0;34m,\u001b[0m \u001b[0mtransitions\u001b[0m\u001b[0;34m,\u001b[0m\u001b[0;34m\u001b[0m\u001b[0;34m\u001b[0m\u001b[0m\n\u001b[1;32m    214\u001b[0m                                          test_X)[0])\n",
      "\u001b[0;32m~/anaconda3/lib/python3.7/site-packages/pyabc/transition/predict_population_size.py\u001b[0m in \u001b[0;36mpredict_population_size\u001b[0;34m(current_pop_size, target_cv, calc_cv, n_steps, first_step_factor)\u001b[0m\n\u001b[1;32m     48\u001b[0m \u001b[0;34m\u001b[0m\u001b[0m\n\u001b[1;32m     49\u001b[0m     \u001b[0mn_samples_list\u001b[0m \u001b[0;34m=\u001b[0m \u001b[0mlist\u001b[0m\u001b[0;34m(\u001b[0m\u001b[0mrange\u001b[0m\u001b[0;34m(\u001b[0m\u001b[0mstart\u001b[0m\u001b[0;34m,\u001b[0m \u001b[0mstop\u001b[0m\u001b[0;34m,\u001b[0m \u001b[0mstep\u001b[0m\u001b[0;34m)\u001b[0m\u001b[0;34m)\u001b[0m\u001b[0;34m\u001b[0m\u001b[0;34m\u001b[0m\u001b[0m\n\u001b[0;32m---> 50\u001b[0;31m     \u001b[0mcvs\u001b[0m \u001b[0;34m=\u001b[0m \u001b[0mlist\u001b[0m\u001b[0;34m(\u001b[0m\u001b[0mmap\u001b[0m\u001b[0;34m(\u001b[0m\u001b[0mcalc_cv\u001b[0m\u001b[0;34m,\u001b[0m \u001b[0mn_samples_list\u001b[0m\u001b[0;34m)\u001b[0m\u001b[0;34m)\u001b[0m\u001b[0;34m\u001b[0m\u001b[0;34m\u001b[0m\u001b[0m\n\u001b[0m\u001b[1;32m     51\u001b[0m \u001b[0;34m\u001b[0m\u001b[0m\n\u001b[1;32m     52\u001b[0m     \u001b[0;32mtry\u001b[0m\u001b[0;34m:\u001b[0m\u001b[0;34m\u001b[0m\u001b[0;34m\u001b[0m\u001b[0m\n",
      "\u001b[0;32m~/anaconda3/lib/python3.7/site-packages/pyabc/populationstrategy.py\u001b[0m in \u001b[0;36m<lambda>\u001b[0;34m(nr_particles)\u001b[0m\n\u001b[1;32m    212\u001b[0m             lambda nr_particles: calc_cv(nr_particles, model_weights,\n\u001b[1;32m    213\u001b[0m                                          \u001b[0mself\u001b[0m\u001b[0;34m.\u001b[0m\u001b[0mn_bootstrap\u001b[0m\u001b[0;34m,\u001b[0m \u001b[0mtest_w\u001b[0m\u001b[0;34m,\u001b[0m \u001b[0mtransitions\u001b[0m\u001b[0;34m,\u001b[0m\u001b[0;34m\u001b[0m\u001b[0;34m\u001b[0m\u001b[0m\n\u001b[0;32m--> 214\u001b[0;31m                                          test_X)[0])\n\u001b[0m\u001b[1;32m    215\u001b[0m \u001b[0;34m\u001b[0m\u001b[0m\n\u001b[1;32m    216\u001b[0m         \u001b[0;32mif\u001b[0m \u001b[0;32mnot\u001b[0m \u001b[0mnp\u001b[0m\u001b[0;34m.\u001b[0m\u001b[0misnan\u001b[0m\u001b[0;34m(\u001b[0m\u001b[0mcv_estimate\u001b[0m\u001b[0;34m.\u001b[0m\u001b[0mn_estimated\u001b[0m\u001b[0;34m)\u001b[0m\u001b[0;34m:\u001b[0m\u001b[0;34m\u001b[0m\u001b[0;34m\u001b[0m\u001b[0m\n",
      "\u001b[0;32m~/anaconda3/lib/python3.7/site-packages/pyabc/cv/bootstrap.py\u001b[0m in \u001b[0;36mcalc_cv\u001b[0;34m(nr_particles, model_weights, N_BOOTSTR, test_w, transitions, test_X)\u001b[0m\n\u001b[1;32m     85\u001b[0m     bootstr_w_at_test_X = [weights(n_per_model, transitions, test_transitions,\n\u001b[1;32m     86\u001b[0m                                    test_X)\n\u001b[0;32m---> 87\u001b[0;31m                            for _ in range(N_BOOTSTR)]\n\u001b[0m\u001b[1;32m     88\u001b[0m \u001b[0;34m\u001b[0m\u001b[0m\n\u001b[1;32m     89\u001b[0m     \u001b[0;31m# sort by model\u001b[0m\u001b[0;34m\u001b[0m\u001b[0;34m\u001b[0m\u001b[0;34m\u001b[0m\u001b[0m\n",
      "\u001b[0;32m~/anaconda3/lib/python3.7/site-packages/pyabc/cv/bootstrap.py\u001b[0m in \u001b[0;36m<listcomp>\u001b[0;34m(.0)\u001b[0m\n\u001b[1;32m     85\u001b[0m     bootstr_w_at_test_X = [weights(n_per_model, transitions, test_transitions,\n\u001b[1;32m     86\u001b[0m                                    test_X)\n\u001b[0;32m---> 87\u001b[0;31m                            for _ in range(N_BOOTSTR)]\n\u001b[0m\u001b[1;32m     88\u001b[0m \u001b[0;34m\u001b[0m\u001b[0m\n\u001b[1;32m     89\u001b[0m     \u001b[0;31m# sort by model\u001b[0m\u001b[0;34m\u001b[0m\u001b[0;34m\u001b[0m\u001b[0;34m\u001b[0m\u001b[0m\n",
      "\u001b[0;32m~/anaconda3/lib/python3.7/site-packages/pyabc/cv/bootstrap.py\u001b[0m in \u001b[0;36mweights\u001b[0;34m(n_per_model, transitions, test_transitions, test_X)\u001b[0m\n\u001b[1;32m     36\u001b[0m                                        n_per_model, test_X):\n\u001b[1;32m     37\u001b[0m         \u001b[0mbootstr_X\u001b[0m \u001b[0;34m=\u001b[0m \u001b[0mtrans\u001b[0m\u001b[0;34m.\u001b[0m\u001b[0mrvs\u001b[0m\u001b[0;34m(\u001b[0m\u001b[0msize\u001b[0m\u001b[0;34m=\u001b[0m\u001b[0mn\u001b[0m\u001b[0;34m)\u001b[0m\u001b[0;34m\u001b[0m\u001b[0;34m\u001b[0m\u001b[0m\n\u001b[0;32m---> 38\u001b[0;31m         \u001b[0mtest_trans\u001b[0m\u001b[0;34m.\u001b[0m\u001b[0mfit\u001b[0m\u001b[0;34m(\u001b[0m\u001b[0mbootstr_X\u001b[0m\u001b[0;34m,\u001b[0m \u001b[0mnp\u001b[0m\u001b[0;34m.\u001b[0m\u001b[0mones\u001b[0m\u001b[0;34m(\u001b[0m\u001b[0mlen\u001b[0m\u001b[0;34m(\u001b[0m\u001b[0mbootstr_X\u001b[0m\u001b[0;34m)\u001b[0m\u001b[0;34m)\u001b[0m \u001b[0;34m/\u001b[0m \u001b[0mlen\u001b[0m\u001b[0;34m(\u001b[0m\u001b[0mbootstr_X\u001b[0m\u001b[0;34m)\u001b[0m\u001b[0;34m)\u001b[0m\u001b[0;34m\u001b[0m\u001b[0;34m\u001b[0m\u001b[0m\n\u001b[0m\u001b[1;32m     39\u001b[0m         \u001b[0mbootstr_w_at_test_X\u001b[0m\u001b[0;34m.\u001b[0m\u001b[0mappend\u001b[0m\u001b[0;34m(\u001b[0m\u001b[0mtest_trans\u001b[0m\u001b[0;34m.\u001b[0m\u001b[0mpdf\u001b[0m\u001b[0;34m(\u001b[0m\u001b[0mX\u001b[0m\u001b[0;34m)\u001b[0m\u001b[0;34m)\u001b[0m\u001b[0;34m\u001b[0m\u001b[0;34m\u001b[0m\u001b[0m\n\u001b[1;32m     40\u001b[0m     \u001b[0;32mreturn\u001b[0m \u001b[0mbootstr_w_at_test_X\u001b[0m\u001b[0;34m\u001b[0m\u001b[0;34m\u001b[0m\u001b[0m\n",
      "\u001b[0;32m~/anaconda3/lib/python3.7/site-packages/pyabc/transition/transitionmeta.py\u001b[0m in \u001b[0;36mfit\u001b[0;34m(self, X, w)\u001b[0m\n\u001b[1;32m     18\u001b[0m             \u001b[0;32mif\u001b[0m \u001b[0;32mnot\u001b[0m \u001b[0mnp\u001b[0m\u001b[0;34m.\u001b[0m\u001b[0misclose\u001b[0m\u001b[0;34m(\u001b[0m\u001b[0mw\u001b[0m\u001b[0;34m.\u001b[0m\u001b[0msum\u001b[0m\u001b[0;34m(\u001b[0m\u001b[0;34m)\u001b[0m\u001b[0;34m,\u001b[0m \u001b[0;36m1\u001b[0m\u001b[0;34m)\u001b[0m\u001b[0;34m:\u001b[0m\u001b[0;34m\u001b[0m\u001b[0;34m\u001b[0m\u001b[0m\n\u001b[1;32m     19\u001b[0m                 \u001b[0mw\u001b[0m \u001b[0;34m/=\u001b[0m \u001b[0mw\u001b[0m\u001b[0;34m.\u001b[0m\u001b[0msum\u001b[0m\u001b[0;34m(\u001b[0m\u001b[0;34m)\u001b[0m\u001b[0;34m\u001b[0m\u001b[0;34m\u001b[0m\u001b[0m\n\u001b[0;32m---> 20\u001b[0;31m         \u001b[0mf\u001b[0m\u001b[0;34m(\u001b[0m\u001b[0mself\u001b[0m\u001b[0;34m,\u001b[0m \u001b[0mX\u001b[0m\u001b[0;34m,\u001b[0m \u001b[0mw\u001b[0m\u001b[0;34m)\u001b[0m\u001b[0;34m\u001b[0m\u001b[0;34m\u001b[0m\u001b[0m\n\u001b[0m\u001b[1;32m     21\u001b[0m     \u001b[0;32mreturn\u001b[0m \u001b[0mfit\u001b[0m\u001b[0;34m\u001b[0m\u001b[0;34m\u001b[0m\u001b[0m\n\u001b[1;32m     22\u001b[0m \u001b[0;34m\u001b[0m\u001b[0m\n",
      "\u001b[0;32m~/anaconda3/lib/python3.7/site-packages/pyabc/transition/multivariatenormal.py\u001b[0m in \u001b[0;36mfit\u001b[0;34m(self, X, w)\u001b[0m\n\u001b[1;32m     72\u001b[0m     \u001b[0;32mdef\u001b[0m \u001b[0mfit\u001b[0m\u001b[0;34m(\u001b[0m\u001b[0mself\u001b[0m\u001b[0;34m,\u001b[0m \u001b[0mX\u001b[0m\u001b[0;34m:\u001b[0m \u001b[0mpd\u001b[0m\u001b[0;34m.\u001b[0m\u001b[0mDataFrame\u001b[0m\u001b[0;34m,\u001b[0m \u001b[0mw\u001b[0m\u001b[0;34m:\u001b[0m \u001b[0mnp\u001b[0m\u001b[0;34m.\u001b[0m\u001b[0mndarray\u001b[0m\u001b[0;34m)\u001b[0m \u001b[0;34m->\u001b[0m \u001b[0;32mNone\u001b[0m\u001b[0;34m:\u001b[0m\u001b[0;34m\u001b[0m\u001b[0;34m\u001b[0m\u001b[0m\n\u001b[1;32m     73\u001b[0m         \u001b[0;32mif\u001b[0m \u001b[0mlen\u001b[0m\u001b[0;34m(\u001b[0m\u001b[0mX\u001b[0m\u001b[0;34m)\u001b[0m \u001b[0;34m==\u001b[0m \u001b[0;36m0\u001b[0m\u001b[0;34m:\u001b[0m\u001b[0;34m\u001b[0m\u001b[0;34m\u001b[0m\u001b[0m\n\u001b[0;32m---> 74\u001b[0;31m             \u001b[0;32mraise\u001b[0m \u001b[0mNotEnoughParticles\u001b[0m\u001b[0;34m(\u001b[0m\u001b[0;34m\"Fitting not possible.\"\u001b[0m\u001b[0;34m)\u001b[0m\u001b[0;34m\u001b[0m\u001b[0;34m\u001b[0m\u001b[0m\n\u001b[0m\u001b[1;32m     75\u001b[0m         \u001b[0mself\u001b[0m\u001b[0;34m.\u001b[0m\u001b[0m_X_arr\u001b[0m \u001b[0;34m=\u001b[0m \u001b[0mX\u001b[0m\u001b[0;34m.\u001b[0m\u001b[0mvalues\u001b[0m\u001b[0;34m\u001b[0m\u001b[0;34m\u001b[0m\u001b[0m\n\u001b[1;32m     76\u001b[0m \u001b[0;34m\u001b[0m\u001b[0m\n",
      "\u001b[0;31mNotEnoughParticles\u001b[0m: Fitting not possible."
     ]
    }
   ],
   "source": [
    "history = abc.run(minimum_epsilon=0.7, max_nr_populations=15)"
   ]
  },
  {
   "cell_type": "markdown",
   "metadata": {},
   "source": [
    "We first inspect the model probabilities."
   ]
  },
  {
   "cell_type": "code",
   "execution_count": null,
   "metadata": {},
   "outputs": [],
   "source": [
    "ax = history.get_model_probabilities().plot.bar();\n",
    "ax.set_ylabel(\"Probability\");\n",
    "ax.set_xlabel(\"Generation\");\n",
    "ax.legend([1, 2], title=\"Model\", ncol=2,\n",
    "          loc=\"lower center\", bbox_to_anchor=(.5, 1));"
   ]
  },
  {
   "cell_type": "markdown",
   "metadata": {},
   "source": [
    "The mass at model 2 decreased, the mass at model 1 increased slowly.\n",
    "The correct model 1 is detected towards the later generations.\n",
    "We then inspect the distribution of the rate parameters:"
   ]
  },
  {
   "cell_type": "code",
   "execution_count": null,
   "metadata": {},
   "outputs": [],
   "source": [
    "fig, axes = plt.subplots(2)\n",
    "fig.set_size_inches((6, 6))\n",
    "axes = axes.flatten()\n",
    "axes[0].axvline(true_rate, color=\"black\", linestyle=\"dotted\")\n",
    "for m, ax in enumerate(axes):\n",
    "    for t in range(0, history.n_populations, 2):\n",
    "        df, w = history.get_distribution(m=m, t=t)\n",
    "        if len(w) > 0:  # Particles in a model might die out\n",
    "            pyabc.visualization.plot_kde_1d(df, w, \"rate\", ax=ax, label=f\"t={t}\",\n",
    "                        xmin=0, xmax=20 if m == 0 else 100,\n",
    "                        numx=200)\n",
    "    ax.set_title(f\"Model {m+1}\")\n",
    "axes[0].legend(title=\"Generation\",\n",
    "          loc=\"upper left\", bbox_to_anchor=(1, 1));\n",
    "\n",
    "fig.tight_layout()"
   ]
  },
  {
   "cell_type": "markdown",
   "metadata": {},
   "source": [
    "The true rate is closely approximated by the posterior over the rate of model 1.\n",
    "It is a little harder to interpret the posterior over model 2.\n",
    "Apparently a rate between 20 and 40 yields data most similar to the observed data.\n",
    "\n",
    "Lastly, we visualize the evolution of the population sizes. The population sizes were automatically selected by pyABC and varied over the course of the generations. (We do not plot the size of th first generation, which was set to 500)"
   ]
  },
  {
   "cell_type": "code",
   "execution_count": null,
   "metadata": {},
   "outputs": [],
   "source": [
    "populations = history.get_all_populations()\n",
    "ax = populations[populations.t >= 1].plot(\"t\", \"particles\",\n",
    "                                          style= \"o-\")\n",
    "ax.set_xlabel(\"Generation\");"
   ]
  },
  {
   "cell_type": "markdown",
   "metadata": {},
   "source": [
    "The initially chosen population size was adapted to the desired target accuracy.\n",
    "A larger population size was automatically selected by pyABC while both models were still alive. The population size decreased during the later populations thereby saving computational time."
   ]
  }
 ],
 "metadata": {
  "celltoolbar": "Raw Cell Format",
  "kernelspec": {
   "display_name": "Python 3",
   "language": "python",
   "name": "python3"
  },
  "language_info": {
   "codemirror_mode": {
    "name": "ipython",
    "version": 3
   },
   "file_extension": ".py",
   "mimetype": "text/x-python",
   "name": "python",
   "nbconvert_exporter": "python",
   "pygments_lexer": "ipython3",
   "version": "3.7.6"
  }
 },
 "nbformat": 4,
 "nbformat_minor": 4
}
